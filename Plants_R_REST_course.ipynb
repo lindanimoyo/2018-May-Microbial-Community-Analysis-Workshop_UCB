{
  "nbformat": 4,
  "nbformat_minor": 0,
  "metadata": {
    "colab": {
      "name": "Plants_R_REST_course.ipynb",
      "private_outputs": true,
      "provenance": [],
      "toc_visible": true,
      "include_colab_link": true
    },
    "kernelspec": {
      "name": "ir",
      "display_name": "R"
    }
  },
  "cells": [
    {
      "cell_type": "markdown",
      "metadata": {
        "id": "view-in-github",
        "colab_type": "text"
      },
      "source": [
        "<a href=\"https://colab.research.google.com/github/lindanimoyo/2018-May-Microbial-Community-Analysis-Workshop_UCB/blob/master/Plants_R_REST_course.ipynb\" target=\"_parent\"><img src=\"https://colab.research.google.com/assets/colab-badge.svg\" alt=\"Open In Colab\"/></a>"
      ]
    },
    {
      "cell_type": "markdown",
      "metadata": {
        "collapsed": true,
        "id": "7UhYxjVg713H"
      },
      "source": [
        "# Ensembl REST API course\n",
        "\n",
        "Welcome to the Ensembl REST API course. This Jupyter notebook contains all you need to complete this course, including sample code, space to write your own code and sample answers, which can all be run within the notebook in Python.\n",
        "\n",
        "To run the code within a cell, select it and hit Run.\n",
        "\n",
        "## REST calls in the browser\n",
        "\n",
        "Our first REST call will be the [ping call](http://rest.ensembl.org/documentation/info/ping) which checks your connection to the database:\n",
        "\n",
        "[http://rest.ensembl.org/info/ping?content-type=application/json](http://rest.ensembl.org/info/ping?content-type=application/json)\n",
        "\n",
        "Our next call will [get information about a gene](http://rest.ensembl.org/documentation/info/lookup), using the Ensembl gene ID:\n",
        "\n",
        "[http://rest.ensembl.org/lookup/id/TraesCS3D02G007500?content-type=application/json](http://rest.ensembl.org/lookup/id/TraesCS3D02G007500?content-type=application/json)\n",
        "\n",
        "## Exercises\n",
        "\n",
        "The first set of exercises just use URLs in the browser. You cannot do these within the Python notebook, however we have provided a box where you can note them down.\n",
        "\n",
        "1. Find an endpoint which you can use to lookup information about a gene using its symbol.\n",
        "2. Create a URL to find information about the gene BCH1 in barley (Hordeum vulgare).\n",
        "3. Expand your results to include information about transcripts.\n",
        "\n",
        "Answers:"
      ]
    },
    {
      "cell_type": "markdown",
      "metadata": {
        "id": "e4n68UJz713Y"
      },
      "source": [
        "1.\n",
        "\n",
        "2.\n",
        "\n",
        "3."
      ]
    },
    {
      "cell_type": "markdown",
      "metadata": {
        "collapsed": true,
        "id": "DcIbaTdA8nTD"
      },
      "source": [
        "# Making requests with R\n",
        "\n",
        "To make a request, you'll need to specify the server and extension. Printing the request will give you the response code."
      ]
    },
    {
      "cell_type": "code",
      "metadata": {
        "trusted": true,
        "id": "MbhVQpPr8nTI"
      },
      "source": [
        "library(httr)\n",
        "library(jsonlite)\n",
        "\n",
        "server <- \"http://rest.ensembl.org\"\n",
        "ext <- \"/lookup/id/TraesCS3D02G007500\"\n",
        "\n",
        "r <- GET(paste(server, ext, sep = \"\"), accept(\"application/json\"))\n",
        "\n",
        "r"
      ],
      "execution_count": null,
      "outputs": []
    },
    {
      "cell_type": "markdown",
      "metadata": {
        "id": "3iu-sqQ58nTK"
      },
      "source": [
        "In most cases, you only want to see the response code of failed requests, so you can use the httr module stop_for_status"
      ]
    },
    {
      "cell_type": "code",
      "metadata": {
        "trusted": true,
        "id": "rpVoxk6k8nTL"
      },
      "source": [
        "library(httr)\n",
        "library(jsonlite)\n",
        "\n",
        "server <- \"http://rest.ensembl.org\"\n",
        "ext <- \"/lookup/id/TraesCS3D02G007500\"\n",
        "\n",
        "r <- GET(paste(server, ext, sep = \"\"), accept(\"application/json\"))\n",
        "\n",
        "stop_for_status(r)\n",
        "\n"
      ],
      "execution_count": null,
      "outputs": []
    },
    {
      "cell_type": "markdown",
      "metadata": {
        "id": "OkNPqUn98nTN"
      },
      "source": [
        "The httr library includes a module that gets the text of the response, and the jsonlite library can use this as input to decode the json. I've used the prettify command to print, which makes my json easy to read. You'll find this useful during the exercises to see how the json looks."
      ]
    },
    {
      "cell_type": "code",
      "metadata": {
        "trusted": true,
        "id": "J1e22Av48nTO"
      },
      "source": [
        "library(httr)\n",
        "library(jsonlite)\n",
        "\n",
        "server <- \"http://rest.ensembl.org\"\n",
        "ext <- \"/lookup/id/TraesCS3D02G007500\"\n",
        "\n",
        "r <- GET(paste(server, ext, sep = \"\"), accept(\"application/json\"))\n",
        "\n",
        "stop_for_status(r)\n",
        "\n",
        "prettify(content(r, \"text\", encoding = \"UTF-8\"))"
      ],
      "execution_count": null,
      "outputs": []
    },
    {
      "cell_type": "markdown",
      "metadata": {
        "id": "hezS-Xao8nTP"
      },
      "source": [
        "The helper function allows you to call the request, check the status and decode the json in a single line in your script. If you're using lots of REST calls in your script, creating the function at the beginning of your script will save you a lot of time"
      ]
    },
    {
      "cell_type": "code",
      "metadata": {
        "trusted": true,
        "id": "SpJ36zXU8nTR"
      },
      "source": [
        "library(httr)\n",
        "library(jsonlite)\n",
        "\n",
        "fetch_endpoint <- function(server, request, content_type){\n",
        "\n",
        "    r <- GET(paste(server, request, sep = \"\"), accept(content_type))\n",
        "\n",
        "    stop_for_status(r)\n",
        "\n",
        "    if (content_type == 'application/json'){\n",
        "        return (fromJSON(content(r, \"text\", encoding = \"UTF-8\")))\n",
        "    } else {\n",
        "        return (content(r, \"text\", encoding = \"UTF-8\"))\n",
        "    }\n",
        "}\n",
        "\n",
        "server <- \"http://rest.ensembl.org/\"\n",
        "ext <- \"/lookup/id/TraesCS3D02G007500\"\n",
        "con <- \"application/json\"\n",
        "get_gene <- fetch_endpoint(server, ext, con)\n",
        "\n",
        "prettify(toJSON(get_gene))"
      ],
      "execution_count": null,
      "outputs": []
    },
    {
      "cell_type": "markdown",
      "metadata": {
        "id": "1ez1UOu_8nTS"
      },
      "source": [
        "## Exercises 2\n",
        "\n",
        "1. Write a script to **lookup** the gene called *BCH1* in barley and print the results in json."
      ]
    },
    {
      "cell_type": "code",
      "metadata": {
        "trusted": true,
        "id": "93pHJQZN8nTT"
      },
      "source": [
        "# Exercise 2"
      ],
      "execution_count": null,
      "outputs": []
    },
    {
      "cell_type": "markdown",
      "metadata": {
        "collapsed": true,
        "id": "pLBfASwN8pI6"
      },
      "source": [
        "## Exercises 2 – answers\n",
        "\n",
        "1. Write a script to **lookup** the gene called *BCH1* in barley and print the results in json."
      ]
    },
    {
      "cell_type": "code",
      "metadata": {
        "trusted": true,
        "id": "ArYGW7Np8pI-"
      },
      "source": [
        "library(httr)\n",
        "library(jsonlite)\n",
        "\n",
        "fetch_endpoint <- function(server, request, content_type){\n",
        "\n",
        "    r <- GET(paste(server, request, sep = \"\"), accept(content_type))\n",
        "\n",
        "    stop_for_status(r)\n",
        "\n",
        "    if (content_type == 'application/json'){\n",
        "        return (fromJSON(content(r, \"text\", encoding = \"UTF-8\")))\n",
        "    } else {\n",
        "        return (content(r, \"text\", encoding = \"UTF-8\"))\n",
        "    }\n",
        "}\n",
        "\n",
        "# define the gene name\n",
        "gene_name <- \"BCH1\"\n",
        "\n",
        "# define the general URL parameters\n",
        "server <- \"http://rest.ensembl.org/\"\n",
        "con <- \"application/json\"\n",
        "\n",
        "# define REST query to get the gene ID from the gene name\n",
        "ext_get_lookup <- paste(\"lookup/symbol/hordeum_vulgare/\", gene_name, \"?\", sep =\"\")\n",
        "\n",
        "get_lookup <- fetch_endpoint(server, ext_get_lookup, con)\n",
        "\n",
        "prettify(toJSON(get_lookup))"
      ],
      "execution_count": null,
      "outputs": []
    },
    {
      "cell_type": "markdown",
      "metadata": {
        "collapsed": true,
        "id": "C2FEKdoz8reQ"
      },
      "source": [
        "# Using results\n",
        "\n",
        "The fromJSON module we used to pull out the data converts it to a dataframe, so you can pull out a single datapoint using the key.\n",
        "\n",
        "```\n",
        "{'assembly_name': 'IWGSC',\n",
        " 'biotype': 'protein_coding',\n",
        " 'db_type': 'core',\n",
        " 'end': 2603119,\n",
        " 'id': 'TraesCS3D02G007500',\n",
        " 'logic_name': 'iwgsc_high_conf',\n",
        " 'object_type': 'Gene',\n",
        " 'seq_region_name': '3D',\n",
        " 'source': 'IWGSC',\n",
        " 'species': 'triticum_aestivum',\n",
        " 'start': 2600356,\n",
        " 'strand': -1}\n",
        "```\n",
        "\n",
        "\n",
        "We can add this to our previous script:"
      ]
    },
    {
      "cell_type": "code",
      "metadata": {
        "trusted": true,
        "id": "HCw4ZMML8reU"
      },
      "source": [
        "library(httr)\n",
        "library(jsonlite)\n",
        "\n",
        "fetch_endpoint <- function(server, request, content_type){\n",
        "\n",
        "    r <- GET(paste(server, request, sep = \"\"), accept(content_type))\n",
        "\n",
        "    stop_for_status(r)\n",
        "\n",
        "    if (content_type == 'application/json'){\n",
        "        return (fromJSON(content(r, \"text\", encoding = \"UTF-8\")))\n",
        "    } else {\n",
        "        return (content(r, \"text\", encoding = \"UTF-8\"))\n",
        "    }\n",
        "}\n",
        "\n",
        "server <- \"http://rest.ensembl.org/\"\n",
        "ext <- \"lookup/id/TraesCS3D02G007500?\"\n",
        "con <- \"application/json\"\n",
        "get_gene <- fetch_endpoint(server, ext, con)\n",
        "\n",
        "logic_name <- get_gene$logic_name\n",
        "\n",
        "cat(logic_name)"
      ],
      "execution_count": null,
      "outputs": []
    },
    {
      "cell_type": "markdown",
      "metadata": {
        "id": "o5esa9H38reW"
      },
      "source": [
        "## Exercises 3\n",
        "\n",
        "1\\. Write a script to lookup the gene called BCH1 in barley and print the stable ID of this gene."
      ]
    },
    {
      "cell_type": "code",
      "metadata": {
        "trusted": true,
        "id": "LVEpXwFj8reY"
      },
      "source": [
        "# Exercise 3.1"
      ],
      "execution_count": null,
      "outputs": []
    },
    {
      "cell_type": "markdown",
      "metadata": {
        "id": "8gY_Gb6X8reZ"
      },
      "source": [
        "2\\. Get all variants overlapping the *Arabidopsis thaliana* gene AT3G52430. For each variant print:\n",
        "\n",
        "   a. The variant ID.\n",
        "   \n",
        "   b. The source.\n",
        "   \n",
        "   c. The alleles."
      ]
    },
    {
      "cell_type": "code",
      "metadata": {
        "trusted": true,
        "id": "6FRRZEK08rea"
      },
      "source": [
        "# Exercise 3.2"
      ],
      "execution_count": null,
      "outputs": []
    },
    {
      "cell_type": "markdown",
      "metadata": {
        "id": "kIALr4QP8reb"
      },
      "source": [
        "3\\. Get the maize (*Zea mays*) homologue of the *Arabidopsis thaliana* CP33 and print the ID and sequence of both.\n",
        "\n",
        "Note that the JSON for the endpoint you need is several layers deep, containing nested lists (appear as square brackets [ ] in the JSON) and key value sets (appear as curly brackets { } in the JSON). Prettify comes in very useful here for the intermediate stage when you're trying to work out the json."
      ]
    },
    {
      "cell_type": "code",
      "metadata": {
        "trusted": true,
        "id": "MpGah2iu8red"
      },
      "source": [
        "# Exercise 3.3"
      ],
      "execution_count": null,
      "outputs": []
    },
    {
      "cell_type": "markdown",
      "metadata": {
        "collapsed": true,
        "id": "yuJsNwGu8tE5"
      },
      "source": [
        "## Exercises 3 – answers\n",
        "\n",
        "1\\. Write a script to lookup the gene called BCH1 in barley and print the stable ID of this gene."
      ]
    },
    {
      "cell_type": "code",
      "metadata": {
        "trusted": true,
        "id": "W56ZF7T-8tE9"
      },
      "source": [
        "library(httr)\n",
        "library(jsonlite)\n",
        "\n",
        "fetch_endpoint <- function(server, request, content_type){\n",
        "\n",
        "    r <- GET(paste(server, request, sep = \"\"), accept(content_type))\n",
        "\n",
        "    stop_for_status(r)\n",
        "\n",
        "    if (content_type == 'application/json'){\n",
        "        return (fromJSON(content(r, \"text\", encoding = \"UTF-8\")))\n",
        "    } else {\n",
        "        return (content(r, \"text\", encoding = \"UTF-8\"))\n",
        "    }\n",
        "}\n",
        "\n",
        "# define the gene name\n",
        "gene_name <- \"BCH1\"\n",
        "\n",
        "# define the general URL parameters\n",
        "server <- \"http://rest.ensembl.org/\"\n",
        "con <- \"application/json\"\n",
        "\n",
        "# define REST query to get the gene ID from the gene name\n",
        "ext_get_lookup <- paste(\"lookup/symbol/hordeum_vulgare/\", gene_name, \"?\", sep =\"\")\n",
        "\n",
        "get_lookup <- fetch_endpoint(server, ext_get_lookup, con)\n",
        "\n",
        "stable_id <- get_lookup$id\n",
        "\n",
        "cat(stable_id)"
      ],
      "execution_count": null,
      "outputs": []
    },
    {
      "cell_type": "markdown",
      "metadata": {
        "id": "vZ6p7GFW8tE_"
      },
      "source": [
        "2\\. Get all variants overlapping the *Arabidopsis thaliana* gene AT3G52430. For each variant print:\n",
        "\n",
        "   a. The variant ID.\n",
        "   \n",
        "   b. The source.\n",
        "   \n",
        "   c. The alleles."
      ]
    },
    {
      "cell_type": "code",
      "metadata": {
        "trusted": true,
        "id": "qtIKdR398tFB"
      },
      "source": [
        "library(httr)\n",
        "library(jsonlite)\n",
        "\n",
        "fetch_endpoint <- function(server, request, content_type){\n",
        "\n",
        "    r <- GET(paste(server, request, sep = \"\"), accept(content_type))\n",
        "\n",
        "    stop_for_status(r)\n",
        "\n",
        "    if (content_type == 'application/json'){\n",
        "        return (fromJSON(content(r, \"text\", encoding = \"UTF-8\")))\n",
        "    } else {\n",
        "        return (content(r, \"text\", encoding = \"UTF-8\"))\n",
        "    }\n",
        "}\n",
        "\n",
        "# define the URL parameters\n",
        "server <- \"http://rest.ensembl.org/\"\n",
        "con <- \"application/json\"\n",
        "ext_overlap <- \"/overlap/id/AT3G52430?feature=variation\"\n",
        "\n",
        "get_overlap <- fetch_endpoint(server, ext_overlap, con)\n",
        "\n",
        "flat_get_overlap <- flatten(get_overlap, recursive = TRUE)\n",
        "\n",
        "flat_get_overlap[, c(\"id\", \"source\", \"alleles\")]"
      ],
      "execution_count": null,
      "outputs": []
    },
    {
      "cell_type": "markdown",
      "metadata": {
        "id": "IZQ0nZfy8tFC"
      },
      "source": [
        "3\\. Get the maize (*Zea mays*) homologue of the *Arabidopsis thaliana* CP33 and print the ID and the aligned sequence of both.\n",
        "\n",
        "Note that the JSON for the endpoint you need is several layers deep, containing nested lists (appear as square brackets [ ] in the JSON) and key value sets (appear as curly brackets { } in the JSON)."
      ]
    },
    {
      "cell_type": "code",
      "metadata": {
        "trusted": true,
        "id": "v6BW8pFx8tFD"
      },
      "source": [
        "library(httr)\n",
        "library(jsonlite)\n",
        "\n",
        "fetch_endpoint <- function(server, request, content_type){\n",
        "\n",
        "    r <- GET(paste(server, request, sep = \"\"), accept(content_type))\n",
        "\n",
        "    stop_for_status(r)\n",
        "\n",
        "    if (content_type == 'application/json'){\n",
        "        return (fromJSON(content(r, \"text\", encoding = \"UTF-8\")))\n",
        "    } else {\n",
        "        return (content(r, \"text\", encoding = \"UTF-8\"))\n",
        "    }\n",
        "}\n",
        "\n",
        "gene <- \"CP33\"\n",
        "\n",
        "# define the URL parameters\n",
        "server <- \"http://rest.ensembl.org/\"\n",
        "con <- \"application/json\"\n",
        "ext_hom <- paste(\"homology/symbol/arabidopsis_thaliana/\", gene, \"?target_species=zea_mays\", sep = \"\")\n",
        "\n",
        "get_hom <- fetch_endpoint(server, ext_hom, con)\n",
        "\n",
        "homologies <- get_hom$data$homologies\n",
        "\n",
        "for (homology in homologies) {\n",
        "    homology\n",
        "\n",
        "    source_id <- homology$source$id\n",
        "    source_seq <- homology$source$align_seq\n",
        "    source_species <- homology$source$species\n",
        "\n",
        "    target_id <- homology$target$id\n",
        "    target_seq <- homology$target$align_seq\n",
        "    target_species <- homology$target$species\n",
        "    \n",
        "    cat(\">\", source_id, source_species, \"\\n\", source_seq, \"\\n>\", target_id, target_species, \"\\n\", target_seq)\n",
        "    }\n",
        "\n"
      ],
      "execution_count": null,
      "outputs": []
    },
    {
      "cell_type": "markdown",
      "metadata": {
        "collapsed": true,
        "id": "bxbhOiS58usp"
      },
      "source": [
        "# Other content types\n",
        "\n",
        "If you specify another content type (not json), the helper function will get you this as text\n",
        "This can be used to get:\n",
        "* Sequence in FASTA\n",
        "* Gene trees and homologues in various formats\n",
        "* Alignments"
      ]
    },
    {
      "cell_type": "code",
      "metadata": {
        "trusted": true,
        "id": "Yo9MQjq48ust"
      },
      "source": [
        "if (content_type == 'application/json'){\n",
        "    return (fromJSON(content(r, \"text\", encoding = \"UTF-8\")))\n",
        "} else {\n",
        "    return (content(r, \"text\", encoding = \"UTF-8\"))\n",
        "}"
      ],
      "execution_count": null,
      "outputs": []
    },
    {
      "cell_type": "markdown",
      "metadata": {
        "id": "pB3X-fuW8usw"
      },
      "source": [
        "The [REST documentation](https://github.com/Ensembl/ensembl-rest/wiki/Output-formats) lists how you specify the output formats.\n",
        "\n",
        "For example, to get genome features in BED, you need to specify the content type as `text/x-bed` not just `bed`:"
      ]
    },
    {
      "cell_type": "code",
      "metadata": {
        "trusted": true,
        "id": "aHrRexR68usx"
      },
      "source": [
        "library(httr)\n",
        "library(jsonlite)\n",
        "\n",
        "fetch_endpoint <- function(server, request, content_type){\n",
        "\n",
        "    r <- GET(paste(server, request, sep = \"\"), accept(content_type))\n",
        "\n",
        "    stop_for_status(r)\n",
        "\n",
        "    if (content_type == 'application/json'){\n",
        "        return (fromJSON(content(r, \"text\", encoding = \"UTF-8\")))\n",
        "    } else {\n",
        "        return (content(r, \"text\", encoding = \"UTF-8\"))\n",
        "    }\n",
        "}\n",
        "\n",
        "locus <- \"2:6129736..6845617\"\n",
        "server <- \"http://rest.ensembl.org/\"\n",
        "ext_get_bed <- paste(\"overlap/region/oryza_sativa/\", locus, \"?feature=repeat\", sep = \"\")\n",
        "con <- \"text/x-bed\"\n",
        "\n",
        "get_bed <- fetch_endpoint(server, ext_get_bed, con)\n",
        "\n",
        "# print the bed file\n",
        "cat(get_bed)"
      ],
      "execution_count": null,
      "outputs": []
    },
    {
      "cell_type": "markdown",
      "metadata": {
        "id": "A9u8ggyx8usy"
      },
      "source": [
        "## Exercises 4 \n",
        "\n",
        "1\\. Get the gene tree predicted for the gene Pp3c2_11370 in full nh format. "
      ]
    },
    {
      "cell_type": "code",
      "metadata": {
        "trusted": true,
        "id": "OPEf2GEp8us0"
      },
      "source": [
        "# Exercise 4.1"
      ],
      "execution_count": null,
      "outputs": []
    },
    {
      "cell_type": "markdown",
      "metadata": {
        "id": "WgxTDo3s8us1"
      },
      "source": [
        "2\\. Get the sequence of the gene TraesCS4A02G446800 in FASTA format."
      ]
    },
    {
      "cell_type": "code",
      "metadata": {
        "trusted": true,
        "id": "LcrxPSlr8us1"
      },
      "source": [
        "# Exercise 4.2"
      ],
      "execution_count": null,
      "outputs": []
    },
    {
      "cell_type": "markdown",
      "metadata": {
        "collapsed": true,
        "id": "YZPkwDIW8wyc"
      },
      "source": [
        "## Exercises 4 – answers \n",
        "\n",
        "1\\. Get the gene tree predicted for the gene Pp3c2_11370 in full nh format. "
      ]
    },
    {
      "cell_type": "code",
      "metadata": {
        "trusted": true,
        "id": "KZStkSuv8wyg"
      },
      "source": [
        "library(httr)\n",
        "\n",
        "fetch_endpoint <- function(server, request, content_type){\n",
        "\n",
        "    r <- GET(paste(server, request, sep = \"\"), accept(content_type))\n",
        "\n",
        "    stop_for_status(r)\n",
        "\n",
        "    if (content_type == 'application/json'){\n",
        "        return (fromJSON(content(r, \"text\", encoding = \"UTF-8\")))\n",
        "    } else {\n",
        "        return (content(r, \"text\", encoding = \"UTF-8\"))\n",
        "    }\n",
        "}\n",
        "\n",
        "gene_id <- \"Pp3c2_11370\"\n",
        "\n",
        "# define the general URL parameters\n",
        "server <- \"http://rest.ensembl.org/\"\n",
        "ext_gt <- paste(\"genetree/member/id/\", gene_id, \"?nh_format=full;\", sep = \"\")\n",
        "gt_content_type <- \"text/x-nh\"\n",
        "get_gt <- fetch_endpoint(server, ext_gt, gt_content_type)\n",
        "\n",
        "cat(get_gt)"
      ],
      "execution_count": null,
      "outputs": []
    },
    {
      "cell_type": "markdown",
      "metadata": {
        "id": "kLTAf6G38wyi"
      },
      "source": [
        "2\\. Get the sequence of the gene TraesCS4A02G446800 in FASTA format."
      ]
    },
    {
      "cell_type": "code",
      "metadata": {
        "trusted": true,
        "id": "XfNQUg-l8wyy"
      },
      "source": [
        "library(httr)\n",
        "library(jsonlite)\n",
        "\n",
        "fetch_endpoint <- function(server, request, content_type){\n",
        "\n",
        "    r <- GET(paste(server, request, sep = \"\"), accept(content_type))\n",
        "\n",
        "    stop_for_status(r)\n",
        "\n",
        "    if (content_type == 'application/json'){\n",
        "        return (fromJSON(content(r, \"text\", encoding = \"UTF-8\")))\n",
        "    } else {\n",
        "        return (content(r, \"text\", encoding = \"UTF-8\"))\n",
        "    }\n",
        "}\n",
        "\n",
        "gene <- \"TraesCS4A02G446800\"\n",
        "server <- \"http://rest.ensembl.org/\"\n",
        "ext_get_seq <- paste(\"/sequence/id/\", gene, \"?\", sep = \"\")\n",
        "con <- \"text/x-fasta\"\n",
        "\n",
        "get_seq <- fetch_endpoint(server, ext_get_seq, con)\n",
        "\n",
        "# print the gene name, ID and sequence\n",
        "cat(get_seq)"
      ],
      "execution_count": null,
      "outputs": []
    },
    {
      "cell_type": "markdown",
      "metadata": {
        "collapsed": true,
        "id": "ltAjK-198zA1"
      },
      "source": [
        "# Linking endpoints together\n",
        "\n",
        "If you can pull a datapoint from the json, you can use it as input for another endpoint.\n",
        "\n",
        "For example, this script gets the genomic locus of a gene then looks up repeats overlapping it:"
      ]
    },
    {
      "cell_type": "code",
      "metadata": {
        "trusted": true,
        "id": "FH7rl6_z8zA5"
      },
      "source": [
        "library(httr)\n",
        "library(jsonlite)\n",
        "\n",
        "fetch_endpoint <- function(server, request, content_type){\n",
        "\n",
        "    r <- GET(paste(server, request, sep = \"\"), accept(content_type))\n",
        "\n",
        "    stop_for_status(r)\n",
        "\n",
        "    if (content_type == 'application/json'){\n",
        "        return (fromJSON(content(r, \"text\", encoding = \"UTF-8\")))\n",
        "    } else {\n",
        "        return (content(r, \"text\", encoding = \"UTF-8\"))\n",
        "    }\n",
        "}\n",
        "\n",
        "server <- \"http://rest.ensembl.org/\"\n",
        "gene_ext <- \"lookup/id/TraesCS3D02G007500?\"\n",
        "json <- \"application/json\"\n",
        "get_gene <- fetch_endpoint(server, gene_ext, json)\n",
        "\n",
        "locus = paste(get_gene$species, \"/\", get_gene$seq_region_name, \":\",get_gene$start, \"..\", get_gene$end, sep=\"\")\n",
        "\n",
        "ext_get_bed <- paste(\"overlap/region/\", locus, \"?feature=repeat\", sep = \"\")\n",
        "\n",
        "get_bed <- fetch_endpoint(server, ext_get_bed, \"text/x-bed\")\n",
        "\n",
        "# print the bed file\n",
        "cat(get_bed)"
      ],
      "execution_count": null,
      "outputs": []
    },
    {
      "cell_type": "markdown",
      "metadata": {
        "id": "jbkRoovL8zA7"
      },
      "source": [
        "## Exercises 5\n",
        "\n",
        "1\\. Using the script from 3.1, add a call to fetch and print the sequence for the gene BCH1 in FASTA format."
      ]
    },
    {
      "cell_type": "code",
      "metadata": {
        "trusted": true,
        "id": "R3okwOO98zA8"
      },
      "source": [
        "# Exercise 5.1"
      ],
      "execution_count": null,
      "outputs": []
    },
    {
      "cell_type": "markdown",
      "metadata": {
        "id": "joDvLBSL8zA9"
      },
      "source": [
        "2\\. Print the ID of any variants that overlap the region 5000 bp upstream of the Brachypodium BRADI_5g16840v3 gene. (Hints: get the gene ID first, then check the strand of the gene to see which way is upstream.)"
      ]
    },
    {
      "cell_type": "code",
      "metadata": {
        "trusted": true,
        "id": "sLqyslcr8zA-"
      },
      "source": [
        "# Exercise 5.2"
      ],
      "execution_count": null,
      "outputs": []
    },
    {
      "cell_type": "markdown",
      "metadata": {
        "collapsed": true,
        "id": "QFxfc1r381J3"
      },
      "source": [
        "## Exercises 5 - answers\n",
        "\n",
        "1\\. Using the script from 3.1, add a call to fetch and print the sequence for the gene BCH1 in FASTA format."
      ]
    },
    {
      "cell_type": "code",
      "metadata": {
        "trusted": true,
        "id": "RdiiVp0n81J7"
      },
      "source": [
        "library(httr)\n",
        "library(jsonlite)\n",
        "\n",
        "fetch_endpoint <- function(server, request, content_type){\n",
        "\n",
        "    r <- GET(paste(server, request, sep = \"\"), accept(content_type))\n",
        "\n",
        "    stop_for_status(r)\n",
        "\n",
        "    if (content_type == 'application/json'){\n",
        "        return (fromJSON(content(r, \"text\", encoding = \"UTF-8\")))\n",
        "    } else {\n",
        "        return (content(r, \"text\", encoding = \"UTF-8\"))\n",
        "    }\n",
        "}\n",
        "\n",
        "# define the gene name\n",
        "gene_name <- \"BCH1\"\n",
        "\n",
        "# define the general URL parameters\n",
        "server <- \"http://rest.ensembl.org/\"\n",
        "con <- \"application/json\"\n",
        "\n",
        "# define REST query to get the gene ID from the gene name\n",
        "ext_get_lookup <- paste(\"lookup/symbol/hordeum_vulgare/\", gene_name, \"?\", sep =\"\")\n",
        "\n",
        "get_lookup <- fetch_endpoint(server, ext_get_lookup, con)\n",
        "\n",
        "stable_id <- get_lookup$id\n",
        "\n",
        "# define the REST query to get the sequence from the gene\n",
        "ext_get_seq <- paste(\"sequence/id/\", get_lookup$id, \"?\", sep = \"\")\n",
        "get_seq <- fetch_endpoint(server, ext_get_seq, 'text/x-fasta')\n",
        "\n",
        "# print the gene name, ID and sequence\n",
        "cat(get_seq)"
      ],
      "execution_count": null,
      "outputs": []
    },
    {
      "cell_type": "markdown",
      "metadata": {
        "id": "y5-YC6E-81J9"
      },
      "source": [
        "2\\. Print the ID of any variants that overlap the region 5000 bp upstream of the Brachypodium BRADI_5g16840v3 gene. (Hints: get the gene ID first, then check the strand of the gene to see which way is upstream.)"
      ]
    },
    {
      "cell_type": "code",
      "metadata": {
        "trusted": true,
        "id": "uPhUT8u-81J-"
      },
      "source": [
        "library(httr)\n",
        "library(jsonlite)\n",
        "\n",
        "fetch_endpoint <- function(server, request, content_type){\n",
        "\n",
        "    r <- GET(paste(server, request, sep = \"\"), accept(content_type))\n",
        "\n",
        "    stop_for_status(r)\n",
        "\n",
        "    if (content_type == 'application/json'){\n",
        "        return (fromJSON(content(r, \"text\", encoding = \"UTF-8\")))\n",
        "    } else {\n",
        "        return (content(r, \"text\", encoding = \"UTF-8\"))\n",
        "    }\n",
        "}\n",
        "\n",
        "server <- \"http://rest.ensembl.org/\"\n",
        "con <- \"application/json\"\n",
        "\n",
        "gene_name <- \"BRADI_5g16840v3\"\n",
        "ext_get_lookup <- paste(\"lookup/id/\", gene_name, \"?\", sep = \"\")\n",
        "get_lookup <- fetch_endpoint(server, ext_get_lookup, con)\n",
        "\n",
        "if (get_lookup$strand == 1){\n",
        "    locus <- paste (get_lookup$seq_region_name, \":\", get_lookup$start - 5000, \"-\", get_lookup$start, sep = \"\")\n",
        "\n",
        "} else {\n",
        "    locus <- paste (get_lookup$seq_region_name, \":\", get_lookup$end, \"-\", get_lookup$end + 5000, sep = \"\")\n",
        "}\n",
        "\n",
        "overlap_ext <- paste (\"overlap/region/brachypodium_distachyon/\", locus, \"?feature=variation;\", sep = \"\")\n",
        "\n",
        "get_overlap <- fetch_endpoint(server, overlap_ext, con)\n",
        "\n",
        "cat(get_overlap$id)"
      ],
      "execution_count": null,
      "outputs": []
    },
    {
      "cell_type": "markdown",
      "metadata": {
        "collapsed": true,
        "id": "DofPV7LN83n7"
      },
      "source": [
        "# Using POST\n",
        "\n",
        "POST allows you to run a query with multiple inputs at once. The output will be a list of data-frames."
      ]
    },
    {
      "cell_type": "code",
      "metadata": {
        "trusted": true,
        "id": "ORJMpq5O83n_"
      },
      "source": [
        "library(httr)\n",
        "library(jsonlite)\n",
        " \n",
        "server <- \"https://rest.ensembl.org\"\n",
        "ext <- \"/lookup/id\"\n",
        "genes <- c(\"ENSG00000157764\", \"ENSG00000248378\")\n",
        "body_values <- toJSON(list(ids=genes))\n",
        "\n",
        "r <- POST(paste(server, ext, sep = \"\"), content_type(\"application/json\"), accept(\"application/json\"), body = body_values)\n",
        "\n",
        "prettify(content(r, \"text\", encoding = \"UTF-8\"))"
      ],
      "execution_count": null,
      "outputs": []
    },
    {
      "cell_type": "markdown",
      "metadata": {
        "id": "sQp390qv83oB"
      },
      "source": [
        "There is a helper function in POST. You can specify both helper functions in your script and use whichever one you need."
      ]
    },
    {
      "cell_type": "code",
      "metadata": {
        "trusted": true,
        "id": "KzUSEI0583oC"
      },
      "source": [
        "fetch_endpoint_POST <- function(server, request, data, content_type='application/json'){\n",
        "\n",
        "    r <- POST(paste(server, request, sep = \"\"), content_type(\"application/json\"), accept(\"application/json\"), body = data)\n",
        "\n",
        "    stop_for_status(r)\n",
        "\n",
        "    if (content_type == 'application/json'){\n",
        "        return (fromJSON(content(r, \"text\", encoding = \"UTF-8\")))\n",
        "    } else {\n",
        "        return (content(r, \"text\", encoding = \"UTF-8\"))\n",
        "    }\n",
        "}"
      ],
      "execution_count": null,
      "outputs": []
    },
    {
      "cell_type": "markdown",
      "metadata": {
        "id": "rtu9uds083oD"
      },
      "source": [
        "### Optional parameters\n",
        "\n",
        "In order to add optional parameters to your POST query, you can just add them onto the extention with a slash. For example if you wanted to mask UTRs when running the [sequence_id_post](http://rest.ensembl.org/documentation/info/sequence_id_post) endpoint, you could specify your extension as:\n",
        "\n",
        "        `ext <- \"sequence/id/mask_feature=1\"`\n",
        "\n",
        "\n",
        "### Input\n",
        "\n",
        "Your input list for POST queries need to be a JSON list. You can create this from a list in R using the [jsonlite library](https://www.rdocumentation.org/packages/jsonlite/versions/1.5):\n",
        "\n",
        "        `data <- toJSON(list(ids=mylist))`\n",
        "\n",
        "### Output\n",
        "\n",
        "The Output from POST queries will be a list of dataframes.\n",
        "\n",
        "## Example\n",
        "\n",
        "The following scripts inputs a list of variants in HGVS format into the VEP and gets out the IDs of known colocated variants, including failed variants (an optional parameter):"
      ]
    },
    {
      "cell_type": "code",
      "metadata": {
        "trusted": true,
        "id": "Gn6oKBhb83oF"
      },
      "source": [
        "library(httr)\n",
        "library(jsonlite)\n",
        "\n",
        "fetch_endpoint <- function(server, request, content_type){\n",
        "\n",
        "    r <- GET(paste(server, request, sep = \"\"), accept(content_type))\n",
        "\n",
        "    stop_for_status(r)\n",
        "\n",
        "    if (content_type == 'application/json'){\n",
        "        return (fromJSON(content(r, \"text\", encoding = \"UTF-8\")))\n",
        "    } else {\n",
        "        return (content(r, \"text\", encoding = \"UTF-8\"))\n",
        "    }\n",
        "}\n",
        "\n",
        "fetch_endpoint_POST <- function(server, request, data, content_type='application/json'){\n",
        "\n",
        "    r <- POST(paste(server, request, sep = \"\"), content_type(\"application/json\"), accept(\"application/json\"), body = data)\n",
        "\n",
        "    stop_for_status(r)\n",
        "\n",
        "    if (content_type == 'application/json'){\n",
        "        return (fromJSON(content(r, \"text\", encoding = \"UTF-8\")))\n",
        "    } else {\n",
        "        return (content(r, \"text\", encoding = \"UTF-8\"))\n",
        "    }\n",
        "}\n",
        "\n",
        "# define the server, extension and content type\n",
        "server <- \"http://rest.ensembl.org/\"\n",
        "con <- \"application/json\"\n",
        "vep_ext <- \"vep/triticum_aestivum/hgvs/failed=1\"\n",
        "\n",
        "# create the list of HGVS annotations\n",
        "hgvs <- c(\"TraesCS4A02G446800.1:c.92C>T\", \"TraesCS4A02G446800.1:c.629T>A\", \"TraesCS4A02G446800.1:c.695A>G\")\n",
        "\n",
        "# convert the list into json format\n",
        "hgvs_json <- toJSON(list(hgvs_notations=hgvs))\n",
        "\n",
        "# run a post query with the list of variants\n",
        "post_vep <- fetch_endpoint_POST(server, vep_ext, hgvs_json, con)\n",
        "\n",
        "#\n",
        "for (i in 1:nrow(post_vep)) {\n",
        "    variant <- post_vep[i, ]\n",
        "    input <- variant$input\n",
        "    colocated <- variant$colocated_variants\n",
        "    for (col in colocated) {\n",
        "        variant_ids = col$id\n",
        "    }\n",
        "    print (paste(input, variant_ids, sep = \": \"))\n",
        "}"
      ],
      "execution_count": null,
      "outputs": []
    },
    {
      "cell_type": "markdown",
      "metadata": {
        "id": "WuZOBnmO83oH"
      },
      "source": [
        "## Exercises 6\n",
        "\n",
        "1\\. Fetch the all the transcripts of barley BCH1 using the lookup function. Fetch the cDNA sequences of all transcripts using a single POST request, and print in FASTA format."
      ]
    },
    {
      "cell_type": "code",
      "metadata": {
        "trusted": true,
        "id": "YSGXeTYA83oH"
      },
      "source": [
        "# Exercise 6.1"
      ],
      "execution_count": null,
      "outputs": []
    },
    {
      "cell_type": "markdown",
      "metadata": {
        "id": "jM7xLeil83oI"
      },
      "source": [
        "2\\. You have the following list of *Sorghum bicolor* variants:\n",
        "```tmp_3_5074295_G_A, tmp_3_5074341_T_G, tmp_3_5074428_A_CG, tmp_3_5074453_C_A, S10_10039859```. Get the variant class, source and the most_severe_consequence for all variants using the variation POST endpoint."
      ]
    },
    {
      "cell_type": "code",
      "metadata": {
        "trusted": true,
        "id": "6k1qqiql83oJ"
      },
      "source": [
        "# Exercise 6.2"
      ],
      "execution_count": null,
      "outputs": []
    },
    {
      "cell_type": "markdown",
      "metadata": {
        "collapsed": true,
        "id": "j_wp5zbi86AT"
      },
      "source": [
        "## Exercises 6 – answers\n",
        "\n",
        "1\\. Fetch the all the transcripts of barley BCH1 using the lookup function. Fetch the cDNA sequences of all transcripts using a single POST request, and print in FASTA format."
      ]
    },
    {
      "cell_type": "code",
      "metadata": {
        "trusted": true,
        "id": "ianUQH-U86AX"
      },
      "source": [
        "library(httr)\n",
        "library(jsonlite)\n",
        "\n",
        "fetch_endpoint <- function(server, request, content_type){\n",
        "\n",
        "    r <- GET(paste(server, request, sep = \"\"), accept(content_type))\n",
        "\n",
        "    stop_for_status(r)\n",
        "\n",
        "    if (content_type == 'application/json'){\n",
        "        return (fromJSON(content(r, \"text\", encoding = \"UTF-8\")))\n",
        "    } else {\n",
        "        return (content(r, \"text\", encoding = \"UTF-8\"))\n",
        "    }\n",
        "}\n",
        "\n",
        "fetch_endpoint_POST <- function(server, request, data, content_type='application/json'){\n",
        "\n",
        "    r <- POST(paste(server, request, sep = \"\"), content_type(\"application/json\"), accept(\"application/json\"), body = data)\n",
        "\n",
        "    stop_for_status(r)\n",
        "\n",
        "    if (content_type == 'application/json'){\n",
        "        return (fromJSON(content(r, \"text\", encoding = \"UTF-8\")))\n",
        "    } else {\n",
        "        return (content(r, \"text\", encoding = \"UTF-8\"))\n",
        "    }\n",
        "}\n",
        "\n",
        "# define the gene name\n",
        "gene_name <- \"BCH1\"\n",
        "transcripts <- vector()\n",
        "\n",
        "# define the general URL parameters\n",
        "server <- \"http://rest.ensembl.org/\"\n",
        "con <- \"application/json\"\n",
        "\n",
        "# define REST query to get the gene ID from the gene name\n",
        "ext_get_gene <- paste(\"lookup/symbol/hordeum_vulgare/\", gene_name, \"?expand=1;\", sep =\"\")\n",
        "\n",
        "get_gene <- fetch_endpoint(server, ext_get_gene, con)\n",
        "\n",
        "# make a vector of the transcripts then convert to a json object\n",
        "transcripts <- get_gene$Transcript$id\n",
        "data <- toJSON(list(ids=transcripts))\n",
        "\n",
        "ext_sequence <- '/sequence/id/'\n",
        "sequences <- fetch_endpoint_POST(server, ext_sequence, data, con)\n",
        "\n",
        "sequences[, c(\"id\", \"seq\")]"
      ],
      "execution_count": null,
      "outputs": []
    },
    {
      "cell_type": "markdown",
      "metadata": {
        "id": "BxHJtC4r86Aa"
      },
      "source": [
        "2\\. You have the following list of *Sorghum bicolor* variants:\n",
        "```tmp_3_5074295_G_A, tmp_3_5074341_T_G, tmp_3_5074428_A_CG, tmp_3_5074453_C_A, S10_10039859```. Get the variant class, source and the most_severe_consequence for all variants using the variant POST endpoint."
      ]
    },
    {
      "cell_type": "code",
      "metadata": {
        "trusted": true,
        "id": "mezPwvfM86Ab"
      },
      "source": [
        "library(httr)\n",
        "library(jsonlite)\n",
        "\n",
        "fetch_endpoint <- function(server, request, content_type){\n",
        "\n",
        "    r <- GET(paste(server, request, sep = \"\"), accept(content_type))\n",
        "\n",
        "    stop_for_status(r)\n",
        "\n",
        "    if (content_type == 'application/json'){\n",
        "        return (fromJSON(content(r, \"text\", encoding = \"UTF-8\")))\n",
        "    } else {\n",
        "        return (content(r, \"text\", encoding = \"UTF-8\"))\n",
        "    }\n",
        "}\n",
        "\n",
        "fetch_endpoint_POST <- function(server, request, data, content_type='application/json'){\n",
        "\n",
        "    r <- POST(paste(server, request, sep = \"\"), content_type(\"application/json\"), accept(\"application/json\"), body = data)\n",
        "\n",
        "    stop_for_status(r)\n",
        "\n",
        "    if (content_type == 'application/json'){\n",
        "        return (fromJSON(content(r, \"text\", encoding = \"UTF-8\")))\n",
        "    } else {\n",
        "        return (content(r, \"text\", encoding = \"UTF-8\"))\n",
        "    }\n",
        "}\n",
        "\n",
        "# define the general URL parameters\n",
        "server <- \"http://rest.ensembl.org/\"\n",
        "con <- \"application/json\"\n",
        "\n",
        "# make a vector listing all the variants then convert to a json list\n",
        "variants <- c(\"tmp_3_5074295_G_A\", \"tmp_3_5074341_T_G\", \"tmp_3_5074428_A_CG\", \"tmp_3_5074453_C_A\", \"S10_10039859\")\n",
        "data <- toJSON(list(ids=variants))\n",
        "\n",
        "# run a post query with the list of variants\n",
        "var_ext <- \"variation/sorghum_bicolor\"\n",
        "post_variants <- fetch_endpoint_POST(server, var_ext, data, con)\n",
        "\n",
        "for (variant in post_variants){\n",
        "    print( paste(variant$name, variant$var_class, variant$source, variant$most_severe_consequence, sep = \", \"))\n",
        "}"
      ],
      "execution_count": null,
      "outputs": []
    },
    {
      "cell_type": "markdown",
      "metadata": {
        "collapsed": true,
        "id": "1JX_kVBg87-K"
      },
      "source": [
        "# Rate limiting\n",
        "\n",
        "Requests are rate limited to prevent a single user from monopolising the resources.\n",
        "\n",
        "Response headers show we are allowed 55000 requests over an hour (3600 seconds): an average 15 requests per second.\n",
        "\n",
        "## Exercises 7\n",
        "\n",
        "This script queries the ping endpoint 25 times, printing the count, the HTTP Status Code, and the X-RateLimit-Remaining header each time.\n",
        "\n",
        "1\\. Increase the number of loops, do you start to get 429 errors?\n",
        "\n",
        "2\\. Can you add in a step to make it wait a few seconds every iteration? Or every 100 iterations?"
      ]
    },
    {
      "cell_type": "code",
      "metadata": {
        "trusted": true,
        "id": "1L3EiH7u87-O"
      },
      "source": [
        "# Exercise 7.1\n",
        "library(httr)\n",
        "\n",
        "server <- \"http://rest.ensembl.org/\"\n",
        "con <- \"application/json\"\n",
        "ext_ping <- \"/info/ping?\"\n",
        "\n",
        "x <- 0\n",
        "\n",
        "while (x < 25) {\n",
        "    ping <- GET(paste(server, ext_ping, sep = \"\"), accept(con))\n",
        "    x = x + 1\n",
        "    print( paste (\"count: \", x, \"status:\", status_code(ping), \"remaining:\", headers(ping)['X-RateLimit-Remaining']))\n",
        "}"
      ],
      "execution_count": null,
      "outputs": []
    },
    {
      "cell_type": "markdown",
      "metadata": {
        "collapsed": true,
        "id": "ONYIgOwP8-MW"
      },
      "source": [
        "## Exercises 7 – answers\n",
        "\n",
        "This script queries the ping endpoint 25 times, printing the count, the HTTP Status Code, and the X-RateLimit-Remaining header each time.\n",
        "\n",
        "1\\. Increase the number of loops, do you start to get 429 errors?\n",
        "\n",
        "2\\. Can you add in a step to make it wait a few seconds every iteration? Or every 100 iterations?\n"
      ]
    },
    {
      "cell_type": "code",
      "metadata": {
        "trusted": true,
        "id": "SrOW9ulr8-Ma"
      },
      "source": [
        "library(httr)\n",
        "\n",
        "server <- \"http://rest.ensembl.org/\"\n",
        "con <- \"application/json\"\n",
        "ext_ping <- \"/info/ping?\"\n",
        "\n",
        "x <- 0\n",
        "y <- 0\n",
        "\n",
        "while (x < 10000) {\n",
        "    ping <- GET(paste(server, ext_ping, sep = \"\"), accept(con))\n",
        "    x = x + 1\n",
        "    y = y + 1\n",
        "    print( paste (\"count: \", x, \"status:\", status_code(ping), \"remaining:\", headers(ping)['X-RateLimit-Remaining']))\n",
        "    \n",
        "    if (y == 100) {\n",
        "        Sys.sleep(10)\n",
        "        y <-0\n",
        "    }\n",
        "}"
      ],
      "execution_count": null,
      "outputs": []
    }
  ]
}